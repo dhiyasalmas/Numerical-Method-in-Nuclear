{
 "cells": [
  {
   "cell_type": "markdown",
   "metadata": {},
   "source": [
    "## **Tugas 7, Komputasi Nuklir**\n",
    "**Dhiya Salma Salsabila/24923304**"
   ]
  },
  {
   "cell_type": "markdown",
   "metadata": {},
   "source": [
    "## Soal\n",
    "1. Buat program difusi neutron untuk 2 grup 1 dimensi"
   ]
  },
  {
   "cell_type": "markdown",
   "metadata": {},
   "source": [
    "## Jawab\n",
    "## <center>**Difusi Neutron**</center> "
   ]
  },
  {
   "cell_type": "markdown",
   "metadata": {},
   "source": [
    "Grup I\n",
    "$$D_1 \\frac{d^2 \\phi^1_x}{d x^2} - \\Sigma_{a1} \\phi^1_x - \\Sigma_{s1 \\rightarrow 2} \\phi^1_x+ \\frac{1}{k} \\left( \\nu_1 \\Sigma_{f1} \\phi^1_x + \\nu_2 \\Sigma_{f2} \\phi^2_x \\right) = 0$$\n",
    "Grup II\n",
    "$$D_2 \\frac{d^2 \\phi^2_x}{d x^2} - \\Sigma_{a2} \\phi^2_x + \\Sigma_{s1 \\rightarrow 2} \\phi^1_x = 0$$"
   ]
  },
  {
   "cell_type": "markdown",
   "metadata": {},
   "source": [
    "Dilakukan diskritisasi dengan menggunakan central difference\n",
    "$$\\frac{d^2 \\phi_x}{d x^2} \\simeq \\frac{\\phi_{x-1} - 2 \\phi_x +\\phi_{x+1}}{\\Delta x^2}$$"
   ]
  },
  {
   "cell_type": "markdown",
   "metadata": {},
   "source": [
    "Maka persamaan menjadi\n",
    "- Grup I\n",
    "$$D_1 (\\frac{\\phi^1_{x-1} - 2 \\phi^1_x +\\phi^1_{x+1}}{\\Delta x^2}) - \\Sigma_{a1} \\phi^1_x - \\Sigma_{s1 \\rightarrow 2} \\phi^1_x+ \\frac{1}{k} \\left( \\nu_1 \\Sigma_{f1} \\phi^1_x + \\nu_2 \\Sigma_{f2} \\phi^2_x \\right) = 0$$\n",
    "Di kelompokkan terhadap $\\phi$\n",
    "$$ \\phi^1_{x-1} (\\frac{D_1}{\\Delta x^2}) - \\phi^1_x (\\frac{2 D_1}{\\Delta x^2}+ \\Sigma_{a1} + \\Sigma_{s1 \\rightarrow 2}) + \\phi^1_{x+1} (\\frac{D_1}{\\Delta x^2}) = -\\frac{1}{k} \\left( \\nu_1 \\Sigma_{f1} \\phi^1_x + \\nu_2 \\Sigma_{f2} \\phi^2_x \\right)$$"
   ]
  },
  {
   "cell_type": "markdown",
   "metadata": {},
   "source": [
    "$$ -\\phi^1_{x-1} (\\frac{D_1}{\\Delta x^2}) + \\phi^1_x (\\frac{2 D_1}{\\Delta x^2}+ \\Sigma_{a1} + \\Sigma_{s1 \\rightarrow 2}) - \\phi^1_{x+1} (\\frac{D_1}{\\Delta x^2}) = \\frac{1}{k} \\left( \\nu_1 \\Sigma_{f1} \\phi^1_x + \\nu_2 \\Sigma_{f2} \\phi^2_x \\right)$$"
   ]
  },
  {
   "cell_type": "markdown",
   "metadata": {},
   "source": [
    "- Grup II\n",
    "$$D_2 (\\frac{\\phi^2_{x-1} - 2 \\phi^2_x +\\phi^2_{x+1}}{\\Delta x^2}) - \\Sigma_{a2} \\phi^2_x + \\Sigma_{s1 \\rightarrow 2} \\phi^1_x = 0$$\n",
    "Di kelompokkan terhadap $\\phi$\n",
    "$$ \\phi^2_{x-1}(\\frac{D_2}{\\Delta x^2}) - \\phi^2_x (\\frac{2 D_2}{\\Delta x^2} + \\Sigma_{a2})  + \\phi^2_{x+1} (\\frac{D_2}{\\Delta x^2}) = - \\Sigma_{s1 \\rightarrow 2} \\phi^1_x$$\n"
   ]
  },
  {
   "cell_type": "markdown",
   "metadata": {},
   "source": [
    "$$ -\\phi^2_{x-1}(\\frac{D_2}{\\Delta x^2}) + \\phi^2_x (\\frac{2 D_2}{\\Delta x^2} + \\Sigma_{a2})  - \\phi^2_{x+1} (\\frac{D_2}{\\Delta x^2}) = \\Sigma_{s1 \\rightarrow 2} \\phi^1_x$$"
   ]
  },
  {
   "cell_type": "markdown",
   "metadata": {},
   "source": [
    "Maka bentuk matriksnya\n",
    "$$\n",
    "\\begin{pmatrix}\n",
    "  \\frac{2 D_1}{\\Delta x^2}+\\Sigma_{a1}+\\Sigma_{s1 \\rightarrow 2} & -\\frac{D_1}{\\Delta x^2} & 0 &\\cdots    & 0  &0    &0\\\\\n",
    "  -\\frac{D_1}{\\Delta x^2}       &\\frac{2 D_1}{\\Delta x^2}+\\Sigma_{a1}+\\Sigma_{s1 \\rightarrow 2}   &-\\frac{D_1}{\\Delta x^2} &\\cdots &0 &0  &0\\\\\n",
    "  0    &-\\frac{D_1}{\\Delta x^2}   &-\\frac{2 D_1}{\\Delta x^2}+\\Sigma_{a1}+\\Sigma_{s1 \\rightarrow 2}  &-\\frac{D_1}{\\Delta x^2}  &0  &0 &0\\\\\n",
    "  \\vdots &\\vdots  &\\ddots &\\cdots &\\vdots &\\vdots &\\vdots \\\\\n",
    "  -\\Sigma_{s1 \\rightarrow 2} &0  &-\\frac{D_2}{\\Delta x^2}  &\\frac{2 D_2}{\\Delta x^2}+ \\Sigma_{a2} &-\\frac{D_2}{\\Delta x^2}   &0 &0 \\\\\n",
    " 0   &-\\Sigma_{s1 \\rightarrow 2}   &0 &-\\frac{D_2}{\\Delta x^2} &\\frac{2 D_2}{\\Delta x^2}+ \\Sigma_{a2} &-\\frac{D_2}{\\Delta x^2}   &0 \\\\\n",
    "  0    &0 &-\\Sigma_{s1 \\rightarrow 2}   &0 &-\\frac{D_2}{\\Delta x^2} &\\frac{2 D_2}{\\Delta x^2}+ \\Sigma_{a2} &-\\frac{D_2}{\\Delta x^2} \\\\\n",
    "\\end{pmatrix}\n",
    "\n",
    "\\begin{pmatrix}\n",
    "\\phi^1_{x-1} \\\\\n",
    "\\phi^1_{x} \\\\\n",
    "\\phi^1_{x+1} \\\\\n",
    "\\vdots \\\\\n",
    "\\phi^2_{x-1} \\\\\n",
    "\\phi^2_{x} \\\\\n",
    "\\phi^2_{x+1} \\\\\n",
    "\\end{pmatrix}\n",
    "\n",
    "$$"
   ]
  },
  {
   "cell_type": "markdown",
   "metadata": {},
   "source": [
    "$$ = \\frac{1}{k}\n",
    "\\begin{pmatrix}\n",
    "  \\nu_1 \\Sigma_{f1} &0 & 0 &\\cdots    &\\nu_2 \\Sigma_{f2}  &0    &0\\\\\n",
    "  0       &\\nu_1 \\Sigma_{f1}   &0 &\\cdots &0 &\\nu_2 \\Sigma_{f2}  &0\\\\\n",
    "  0    &0   &\\nu_1 \\Sigma_{f1}  &\\cdots  &0  &0 &\\nu_2 \\Sigma_{f2}\\\\\n",
    "  \\vdots &\\vdots  &\\ddots &\\cdots &\\vdots &\\vdots &\\vdots \\\\\n",
    "  0 &0  &0  &0   &0 &0 &0 \\\\\n",
    " 0   &0   &0 &0   &0 &0 &0 \\\\\n",
    "  0    &0 &0   &0 &0 &0 &0 \\\\\n",
    "\\end{pmatrix}\n",
    "\n",
    "\\begin{pmatrix}\n",
    "\\phi^1_{x-1} \\\\\n",
    "\\phi^1_{x} \\\\\n",
    "\\phi^1_{x+1} \\\\\n",
    "\\vdots \\\\\n",
    "\\phi^2_{x-1} \\\\\n",
    "\\phi^2_{x} \\\\\n",
    "\\phi^2_{x+1} \\\\\n",
    "\\end{pmatrix}\n",
    "$$"
   ]
  },
  {
   "cell_type": "code",
   "execution_count": 34,
   "metadata": {},
   "outputs": [
    {
     "name": "stdout",
     "output_type": "stream",
     "text": [
      "Konvergen setelah iterasi ke : 16\n"
     ]
    },
    {
     "data": {
      "image/png": "[encoded data removed]",
      "text/plain": [
       "<Figure size 640x480 with 1 Axes>"
      ]
     },
     "metadata": {},
     "output_type": "display_data"
    }
   ],
   "source": [
    "import numpy as np\n",
    "import matplotlib.pyplot as plt\n",
    "\n",
    "# Parameter\n",
    "panjang = 1 #Panjang reaktor 1D (cm)\n",
    "jumlahtitik = 10 #Jumlah diskritisasi\n",
    "\n",
    "D = 2.0 #Konstanta difusi (cm)\n",
    "D2 = 1.0 #Konstanta difusi (cm)\n",
    "sigmaA = 1.85 #Penampang lintang absorpsi (/cm)\n",
    "sigmaA2 = 1.75 #Penampang lintang absorpsi (/cm)\n",
    "sigmaS = 1.0 #Penampang lintang scattering (/cm)\n",
    "nu_sigmaF = 3.87 #Nu dan Penampang lintang fisi (/cm)\n",
    "nu_sigmaF2 = 2.5 #Nu dan Penampang lintang fisi (/cm)\n",
    "\n",
    "dx = panjang/(jumlahtitik-1)\n",
    "x = np.linspace(0, panjang, jumlahtitik)\n",
    "\n",
    "phi = np.full(jumlahtitik*2, 1e19)\n",
    "phi[0] = 0\n",
    "phi[-1] = 0\n",
    "keff = 1.0\n",
    "\n",
    "toleransi_k = 1e-8\n",
    "toleransi_phi = 1e-8\n",
    "iterasimax = 50000\n",
    "faktor_relaksasi = 0.9\n",
    "\n",
    "for iterasi in range(iterasimax):\n",
    "    phi_lama = phi.copy()\n",
    "    keff_lama = keff\n",
    "    # Membuat matriks sumber fisi\n",
    "    s1 = (nu_sigmaF*dx)/keff_lama\n",
    "    s2 = (nu_sigmaF2*dx)/keff_lama\n",
    "    S = np.zeros((jumlahtitik*2, jumlahtitik*2))\n",
    "    for i in range(1, jumlahtitik*2-1):\n",
    "        if i<=(jumlahtitik*2/2):\n",
    "            S[i, i] = s1\n",
    "            S[i, i+jumlahtitik//2] = s2\n",
    "    S = np.matmul(S, phi_lama)\n",
    "    # Membuat matriks A\n",
    "    A = np.zeros((jumlahtitik*2, jumlahtitik*2))\n",
    "    for i in range(1, jumlahtitik*2-1):\n",
    "        if i<(jumlahtitik*2/2):\n",
    "            A[i, i-1] = -D/dx**2\n",
    "            A[i, i] = (2*D)/dx**2 +sigmaA\n",
    "            A[i, i+1] = -D/dx**2\n",
    "        elif i>=(jumlahtitik*2/2):\n",
    "            A[i, i-jumlahtitik] = sigmaS\n",
    "            A[i, i-1] = -D2/dx**2\n",
    "            A[i, i] = (2*D2)/dx**2 +sigmaA2\n",
    "            A[i, i+1] = -D2/dx**2\n",
    "    # Syarat Batas\n",
    "    A[0, 0] = 1.0\n",
    "    A[-1, -1] = 1.0\n",
    "    S[0] = 0\n",
    "    S[-1] = 0\n",
    "\n",
    "    phi_baru = np.linalg.solve(A,S)\n",
    "    phi = faktor_relaksasi * phi_baru + (1-faktor_relaksasi) * phi_lama\n",
    "\n",
    "    F_baru = np.sum(S * phi * dx)\n",
    "    F_lama = np.sum(S * phi_lama * dx)\n",
    "    keff = (F_baru/F_lama) * keff_lama\n",
    "\n",
    "    konv_keff = abs((keff - keff_lama) / (keff + keff_lama))\n",
    "    konv_phi = np.linalg.norm(phi - phi_lama) / np.linalg.norm(phi + phi_lama)\n",
    "\n",
    "    if (konv_keff < toleransi_k) and (konv_phi < toleransi_phi):\n",
    "        print(f'Konvergen setelah iterasi ke : {iterasi+1}')\n",
    "        break\n",
    "\n",
    "plt.plot(x, phi[0:len(phi)//2], label='Grup I')\n",
    "plt.plot(x, phi[len(phi)//2-1:-1], label='Grup II')\n",
    "plt.xlabel(\"Posisi X (cm)\")\n",
    "plt.ylabel(\"Fluks neutron\")\n",
    "plt.title(\"Distribusi Fluks Neutron 1D\")\n",
    "plt.legend()\n",
    "plt.grid()\n",
    "plt.show()"
   ]
  }
 ],
 "metadata": {
  "kernelspec": {
   "display_name": "Python 3",
   "language": "python",
   "name": "python3"
  },
  "language_info": {
   "codemirror_mode": {
    "name": "ipython",
    "version": 3
   },
   "file_extension": ".py",
   "mimetype": "text/x-python",
   "name": "python",
   "nbconvert_exporter": "python",
   "pygments_lexer": "ipython3",
   "version": "3.12.0"
  }
 },
 "nbformat": 4,
 "nbformat_minor": 2
}
