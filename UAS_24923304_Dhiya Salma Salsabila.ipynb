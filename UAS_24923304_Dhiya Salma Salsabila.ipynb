{
 "cells": [
  {
   "cell_type": "markdown",
   "metadata": {},
   "source": [
    "# **UAS, Komputasi Nuklir**\n",
    "**Dhiya Salma Salsabila/24923304**"
   ]
  },
  {
   "cell_type": "markdown",
   "metadata": {},
   "source": [
    "## Soal\n",
    "Buat program untuk kasus difusi 2 dimensi multigrup dengan perpindahan transfer panasnya\n",
    "## Jawab\n",
    "## <center>**Difusi Neutron 2 Dimensi Silinder (r, z) Multigrup**</center> "
   ]
  },
  {
   "cell_type": "markdown",
   "metadata": {},
   "source": [
    "**Grup I**\n",
    "$$- \\nabla D_1 \\nabla \\phi^1_{(r,z)} + \\Sigma_{a1} \\phi^1_{(r,z)} + \\Sigma_{s1 \\rightarrow 2} \\phi^1_{(r,z)} = \\frac{1}{k} (\\nu_1 \\Sigma_{f1} \\phi^1_{(r,z)} +...+ \\nu_5 \\Sigma_{f5} \\phi^5_{(r,z)} )$$\n",
    "**Grup II**\n",
    "$$- \\nabla D_2 \\nabla \\phi^2_{(r,z)} + \\Sigma_{a2} \\phi^2_{(r,z)} + \\Sigma_{s1 \\rightarrow 2} \\phi^1_{(r,z)} = 0$$\n",
    "**Grup III**\n",
    "$$- \\nabla D_3 \\nabla \\phi^3_{(r,z)} + \\Sigma_{a3} \\phi^3_{(r,z)} + \\Sigma_{s1 \\rightarrow 3} \\phi^1_{(r,z)} + \\Sigma_{s2 \\rightarrow 3} \\phi^2_{(r,z)}= 0$$\n",
    "**Grup IV**\n",
    "$$- \\nabla D_4 \\nabla \\phi^4_{(r,z)} + \\Sigma_{a4} \\phi^4_{(r,z)} + \\Sigma_{s1 \\rightarrow 4} \\phi^1_{(r,z)} + \\Sigma_{s2 \\rightarrow 4} \\phi^2_{(r,z)}+ \\Sigma_{s3 \\rightarrow 4} \\phi^3_{(r,z)}= 0$$\n",
    "**Grup V**\n",
    "$$- \\nabla D_5 \\nabla \\phi^5_{(r,z)} + \\Sigma_{a5} \\phi^5_{(r,z)} + \\Sigma_{s1 \\rightarrow 5} \\phi^1_{(r,z)} + \\Sigma_{s2 \\rightarrow 5} \\phi^2_{(r,z)} + \\Sigma_{s3 \\rightarrow 5} \\phi^3_{(r,z)}+\\Sigma_{s4 \\rightarrow 5} \\phi^4_{(r,z)}= 0$$"
   ]
  },
  {
   "cell_type": "markdown",
   "metadata": {},
   "source": [
    "Untuk silinder arah (r,z):\n",
    "$$ \\nabla f(r,z) = \\frac{1}{r} \\frac{\\partial}{\\partial r} (r \\frac{\\partial f(r,z)}{\\partial r})+ \\frac{\\partial^2 f(r,z)}{\\partial z^2} $$"
   ]
  },
  {
   "cell_type": "markdown",
   "metadata": {},
   "source": [
    "**Maka persamaan menjadi:**\n",
    "<br> **Grup I** <br>\n",
    "\n",
    "$$- D_1 (\\frac{1}{r} \\frac{\\partial \\phi^1_{(r,z)}}{\\partial r} (r \\frac{\\partial \\phi^1_{(r,z)}}{\\partial r}) + \\frac{\\partial^2 \\phi^1_{(r,z)}}{\\partial z^2}) dV+ \\Sigma_{a1} \\phi^1_{(r,z)} dV+ \\Sigma_{s1 \\rightarrow 2} \\phi^1_{(r,z)} dV= \\frac{1}{k} (\\nu_1 \\Sigma_{f1} \\phi^1_{(r,z)} +...+ \\nu_5 \\Sigma_{f5} \\phi^5_{(r,z)} ) dV$$\n",
    "$$- D_1 (\\frac{\\partial^2 \\phi^1_{(r,z)}}{\\partial r^2}+ \\frac{\\partial^2 \\phi^1_{(r,z)}}{\\partial z^2}) dV + \\Sigma_{a1} \\phi^1_{(r,z)} dV+ \\Sigma_{s1 \\rightarrow 2} \\phi^1_{(r,z)} dV = \\frac{1}{k} (\\nu_1 \\Sigma_{f1} \\phi^1_{(r,z)} +...+ \\nu_4 \\Sigma_{f4} \\phi^4_{(r,z)} ) dV$$"
   ]
  },
  {
   "cell_type": "markdown",
   "metadata": {},
   "source": [
    "Dengan menggunakan metode central difference:\n",
    "$$ \\frac{\\partial^2 \\phi_{(r,z)}}{\\partial r^2} = \\frac{\\phi_{(r+\\Delta r, z)}-2\\phi_{(r,z)}+\\phi_{(r-\\Delta r,z)}}{\\Delta r^2} $$\n",
    "$$ \\frac{\\partial^2 \\phi_{(r,z)}}{\\partial z^2} = \\frac{\\phi_{(r, z+\\Delta z)}-2\\phi_{(r,z)}+\\phi_{(r,z-\\Delta z)}}{\\Delta z^2} $$"
   ]
  },
  {
   "cell_type": "markdown",
   "metadata": {},
   "source": [
    "Maka persamaan menjadi:\n",
    "$$- D_1 (\\frac{\\phi^1_{(r+\\Delta r, z)}-2\\phi^1_{(r,z)}+\\phi^1_{(r-\\Delta r,z)}}{\\Delta r^2}+ \\frac{\\phi^1_{(r, z+\\Delta z)}-2\\phi^1_{(r,z)}+\\phi^1_{(r,z-\\Delta z)}}{\\Delta z^2}) dV+ \\Sigma_{a1} \\phi^1_{(r,z)} dV+ \\Sigma_{s1 \\rightarrow 2} \\phi^1_{(r,z)} dV= \\frac{1}{k} (\\nu_1 \\Sigma_{f1} \\phi^1_{(r,z)} +...+ \\nu_5 \\Sigma_{f5} \\phi^5_{(r,z)} )dV$$"
   ]
  },
  {
   "cell_type": "markdown",
   "metadata": {},
   "source": [
    "Dikelompokkan terhadap $\\phi$:\n",
    "$$ \\phi^1_{(r,z-\\Delta z)} (-\\frac{D_1}{\\Delta z^2} V_{(r,z-\\Delta z)}) + \\phi^1_{(r-\\Delta r,z)} (-\\frac{D_1}{\\Delta r^2} V_{(r-\\Delta r,z)}) +\\phi^1_{(r,z)} [(\\frac{2D_1}{\\Delta r^2}+\\frac{2D_1}{\\Delta z^2}+\\Sigma_{a1}+\\Sigma_{s1 \\rightarrow 2}) V_{(r,z)}] + \\phi^1_{(r+\\Delta r, z)} (-\\frac{D_1}{\\Delta r^2} V_{(r+\\Delta r, z)})+ \\phi^1_{(r, z+\\Delta z)} (-\\frac{D_1}{\\Delta z^2} V_{(r, z+\\Delta z)}) $$\n",
    "$$ = \\frac{1}{k} (\\nu_1 \\Sigma_{f1} \\phi^1_{(r,z)} +...+ \\nu_5 \\Sigma_{f5} \\phi^5_{(r,z)} )$$"
   ]
  },
  {
   "cell_type": "markdown",
   "metadata": {},
   "source": [
    "**Grup II**\n",
    "$$- D_2 (\\frac{\\partial^2 \\phi^2_{(r,z)}}{\\partial r^2}+ \\frac{\\partial^2 \\phi^2_{(r,z)}}{\\partial z^2}) dV + \\Sigma_{a2} \\phi^2_{(r,z)} dV + \\Sigma_{s1 \\rightarrow 2} \\phi^1_{(r,z)} dV = 0$$\n",
    "$$- D_2 (\\frac{\\phi^2_{(r+\\Delta r, z)}-2\\phi^2_{(r,z)}+\\phi^2_{(r-\\Delta r,z)}}{\\Delta r^2}+ \\frac{\\phi^2_{(r, z+\\Delta z)}-2\\phi^2_{(r,z)}+\\phi^2_{(r,z-\\Delta z)}}{\\Delta z^2}) dV + \\Sigma_{a2} \\phi^2_{(r,z)} dV + \\Sigma_{s1 \\rightarrow 2} \\phi^1_{(r,z)} dV = 0$$\n",
    "$$ \\phi^1_{(r,z)} (\\Sigma_{s1 \\rightarrow 2} V_{(r,z)})+ \\phi^2_{(r,z-\\Delta z)} (-\\frac{D_2}{\\Delta z^2} V_{(r,z-\\Delta z)}) + \\phi^2_{(r-\\Delta r,z)} (-\\frac{D_2}{\\Delta r^2} V_{(r-\\Delta r,z)}) +\\phi^2_{(r,z)} [(\\frac{2D_2}{\\Delta r^2}+\\frac{2D_2}{\\Delta z^2}+\\Sigma_{a2}) V_{(r,z)}] + \\phi^2_{(r+\\Delta r, z)} (-\\frac{D_2}{\\Delta r^2} V_{(r+\\Delta r, z)})+ \\phi^2_{(r, z+\\Delta z)} (-\\frac{D_2}{\\Delta z^2} V_{(r, z+\\Delta z)})  = 0$$"
   ]
  },
  {
   "cell_type": "markdown",
   "metadata": {},
   "source": [
    "**Grup III**\n",
    "$$ \\phi^1_{(r,z)} (\\Sigma_{s1 \\rightarrow 3} V_{(r,z)}) + \\phi^2_{(r,z)} (\\Sigma_{s2 \\rightarrow 3} V_{(r,z)}) + \\phi^3_{(r,z-\\Delta z)} (-\\frac{D_3}{\\Delta z^2} V_{(r,z-\\Delta z)}) + \\phi^3_{(r-\\Delta r,z)} (-\\frac{D_3}{\\Delta r^2} V_{(r-\\Delta r,z)}) +\\phi^3_{(r,z)} [(\\frac{2D_3}{\\Delta r^2}+\\frac{2D_3}{\\Delta z^2}+\\Sigma_{a3}) V_{(r,z)}] + \\phi^3_{(r+\\Delta r, z)} (-\\frac{D_3}{\\Delta r^2} V_{(r+\\Delta r, z)})+ \\phi^3_{(r, z+\\Delta z)} (-\\frac{D_3}{\\Delta z^2} V_{(r, z+\\Delta z)})  = 0$$"
   ]
  },
  {
   "cell_type": "markdown",
   "metadata": {},
   "source": [
    "Pola yang sama berlaku untuk grup IV dan V."
   ]
  },
  {
   "cell_type": "code",
   "execution_count": 47,
   "metadata": {},
   "outputs": [],
   "source": [
    "import numpy as np\n",
    "import math\n",
    "import matplotlib.pyplot as plt\n",
    "\n",
    "# Parameter\n",
    "jari_jari = 1 #Panjang reaktor\n",
    "tinggi = 1 #Tinggi reaktor\n",
    "jumlahtitik = 5 #Jumlah diskritisasi\n",
    "#Konstanta difusi (cm)\n",
    "D = [2.0, 1.5, 1, 0.5, 0.25]\n",
    "#Penampang lintang absorpsi (/cm)\n",
    "sigmaA = [0.04, 0.07, 0.07, 0.14, 4]\n",
    "#Penampang lintang scattering (/cm)\n",
    "sigmaS1_2,sigmaS1_3,sigmaS1_4,sigmaS1_5 = 0.1, 0.5, 0.7,  0.4\n",
    "sigmaS2_3,sigmaS2_4,sigmaS2_5 = 0.1, 0.2, 0.3\n",
    "sigmaS3_4,sigmaS3_5 = 0.08, 0.04\n",
    "sigmaS4_5 = 0.02 \n",
    "#Nu dan Penampang lintang fisi (/cm)\n",
    "nu_sigmaF = [0.07, 0.04, 0.05, 0.15, 4.2]\n",
    "\n",
    "dr = jari_jari/jumlahtitik\n",
    "r = np.linspace(0, jari_jari, jumlahtitik)\n",
    "dz = tinggi/jumlahtitik\n",
    "z = np.linspace(0, tinggi, jumlahtitik)\n",
    "volume = math.pi*dr**2*dz # Volume silinder\n",
    "\n",
    "phi = np.full(jumlahtitik**3, 1e19)\n",
    "toleransi_k = 1e-8\n",
    "toleransi_phi = 1e-8\n",
    "iterasimax = 10000\n",
    "faktor_relaksasi = 0.9"
   ]
  },
  {
   "cell_type": "code",
   "execution_count": 56,
   "metadata": {},
   "outputs": [],
   "source": [
    "# Membuat matriks A\n",
    "A = np.zeros((jumlahtitik**3, jumlahtitik**3))\n",
    "for i in range(0, jumlahtitik**3):\n",
    "    grup = i // (jumlahtitik**2)  # Tentukan grup berdasarkan indeks\n",
    "    \n",
    "    # Elemen diagonal (termasuk kontribusi scattering dalam grup sendiri)\n",
    "    A[i, i] = ((2 * D[grup] / dr**2) + (2 * D[grup] / dz**2) + sigmaA[grup]) * volume\n",
    "\n",
    "    # kiri-bawah matriks A\n",
    "    if i + 1 < jumlahtitik**3:  # Pastikan i+1 dalam batas\n",
    "        A[i+1, i] = (-D[grup] / dr**2) * volume\n",
    "    # kanan-atas matriks A\n",
    "    if i - 1 >= 0:  # Pastikan i-1 dalam batas\n",
    "        A[i-1, i] = (-D[grup] / dr**2) * volume\n",
    "    # diagonal bawah z\n",
    "    if i + jumlahtitik < jumlahtitik**3:  # Pastikan dalam batas\n",
    "        A[i+jumlahtitik, i] = (-D[grup] / dz**2) * volume\n",
    "    # diagonal atas z\n",
    "    if i - jumlahtitik >= 0:  # Pastikan dalam batas\n",
    "        A[i-jumlahtitik, i] = (-D[grup] / dz**2) * volume\n",
    "    if grup == 0:\n",
    "        A[i+jumlahtitik*jumlahtitik, i] = -sigmaS1_2\n",
    "\n",
    "    # Scattering antar grup\n",
    "    if grup == 0:  # Grup 1 ke grup lainnya\n",
    "        if i + jumlahtitik**2 < jumlahtitik**3:\n",
    "            A[i+jumlahtitik**2, i] = -sigmaS1_2 * volume\n",
    "        if i + 2*jumlahtitik**2 < jumlahtitik**3:\n",
    "            A[i+2*jumlahtitik**2, i] = -sigmaS1_3 * volume\n",
    "        if i + 3*jumlahtitik**2 < jumlahtitik**3:\n",
    "            A[i+3*jumlahtitik**2, i] = -sigmaS1_4 * volume\n",
    "        if i + 4*jumlahtitik**2 < jumlahtitik**3:\n",
    "            A[i+4*jumlahtitik**2, i] = -sigmaS1_5 * volume\n",
    "    elif grup == 1:  # Grup 2 ke grup lainnya\n",
    "        if i + jumlahtitik**2 < jumlahtitik**3:\n",
    "            A[i+jumlahtitik**2, i] = -sigmaS2_3 * volume\n",
    "        if i + 2*jumlahtitik**2 < jumlahtitik**3:\n",
    "            A[i+2*jumlahtitik**2, i] = -sigmaS2_4 * volume\n",
    "        if i + 3*jumlahtitik**2 < jumlahtitik**3:\n",
    "            A[i+3*jumlahtitik**2, i] = -sigmaS2_5 * volume\n",
    "    elif grup == 2:  # Grup 3 ke grup lainnya\n",
    "        if i + jumlahtitik**2 < jumlahtitik**3:\n",
    "            A[i+jumlahtitik**2, i] = -sigmaS3_4 * volume\n",
    "        if i + 2*jumlahtitik**2 < jumlahtitik**3:\n",
    "            A[i+2*jumlahtitik**2, i] = -sigmaS3_5 * volume\n",
    "    elif grup == 3:  # Grup 4 ke grup lainnya\n",
    "        if i + jumlahtitik**2 < jumlahtitik**3:\n",
    "            A[i+jumlahtitik**2, i] = -sigmaS4_5 * volume\n",
    "\n",
    "# Cek bentuk matriks A\n",
    "import pandas as pd\n",
    "df = pd.DataFrame(A)\n",
    "df.to_csv(\"matriksA.csv\", header= False, index = False)"
   ]
  },
  {
   "cell_type": "code",
   "execution_count": null,
   "metadata": {},
   "outputs": [],
   "source": [
    "# Membuat matriks S"
   ]
  }
 ],
 "metadata": {
  "kernelspec": {
   "display_name": "Python 3",
   "language": "python",
   "name": "python3"
  },
  "language_info": {
   "codemirror_mode": {
    "name": "ipython",
    "version": 3
   },
   "file_extension": ".py",
   "mimetype": "text/x-python",
   "name": "python",
   "nbconvert_exporter": "python",
   "pygments_lexer": "ipython3",
   "version": "3.12.0"
  }
 },
 "nbformat": 4,
 "nbformat_minor": 2
}
